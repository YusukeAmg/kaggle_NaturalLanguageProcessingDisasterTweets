{
 "cells": [
  {
   "cell_type": "code",
   "execution_count": 1,
   "metadata": {},
   "outputs": [],
   "source": [
    "import pandas as pd\n",
    "import numpy as np\n",
    "\n",
    "train_df = pd.read_csv('../data/input/train.csv')\n",
    "test_df = pd.read_csv('../data/input/test.csv')"
   ]
  },
  {
   "cell_type": "code",
   "execution_count": 2,
   "metadata": {},
   "outputs": [],
   "source": [
    "# tweetテキストの余計な文字を削除\n",
    "import re\n",
    "\n",
    "def preprocess_text(sentence):\n",
    "    # URL\n",
    "    sentence = re.sub(r\"https?://[\\w/:%#\\$&\\?\\(\\)~\\.=\\+\\-]+\\s*\", ' ', sentence)\n",
    "    # Hash Tag\n",
    "    sentence = re.sub(r'#[^\\s]+\\s*', ' ', sentence)\n",
    "    # アルファベット以外\n",
    "    sentence = re.sub('[^a-zA-Z]', ' ', sentence)\n",
    "    # 単一文字\n",
    "    sentence = re.sub(r\"\\s+[a-zA-Z]\\s+\", ' ', sentence)\n",
    "    # 連続する空白を1つの空白に\n",
    "    sentence = re.sub(r'\\s+', ' ', sentence)\n",
    "    return sentence"
   ]
  },
  {
   "cell_type": "code",
   "execution_count": 3,
   "metadata": {},
   "outputs": [
    {
     "data": {
      "text/html": [
       "<div>\n",
       "<style scoped>\n",
       "    .dataframe tbody tr th:only-of-type {\n",
       "        vertical-align: middle;\n",
       "    }\n",
       "\n",
       "    .dataframe tbody tr th {\n",
       "        vertical-align: top;\n",
       "    }\n",
       "\n",
       "    .dataframe thead th {\n",
       "        text-align: right;\n",
       "    }\n",
       "</style>\n",
       "<table border=\"1\" class=\"dataframe\">\n",
       "  <thead>\n",
       "    <tr style=\"text-align: right;\">\n",
       "      <th></th>\n",
       "      <th>id</th>\n",
       "      <th>keyword</th>\n",
       "      <th>location</th>\n",
       "      <th>text</th>\n",
       "      <th>target</th>\n",
       "    </tr>\n",
       "  </thead>\n",
       "  <tbody>\n",
       "    <tr>\n",
       "      <th>0</th>\n",
       "      <td>1</td>\n",
       "      <td>NaN</td>\n",
       "      <td>NaN</td>\n",
       "      <td>Our Deeds are the Reason of this May ALLAH For...</td>\n",
       "      <td>1</td>\n",
       "    </tr>\n",
       "    <tr>\n",
       "      <th>1</th>\n",
       "      <td>4</td>\n",
       "      <td>NaN</td>\n",
       "      <td>NaN</td>\n",
       "      <td>Forest fire near La Ronge Sask Canada</td>\n",
       "      <td>1</td>\n",
       "    </tr>\n",
       "    <tr>\n",
       "      <th>2</th>\n",
       "      <td>5</td>\n",
       "      <td>NaN</td>\n",
       "      <td>NaN</td>\n",
       "      <td>All residents asked to shelter in place are be...</td>\n",
       "      <td>1</td>\n",
       "    </tr>\n",
       "    <tr>\n",
       "      <th>3</th>\n",
       "      <td>6</td>\n",
       "      <td>NaN</td>\n",
       "      <td>NaN</td>\n",
       "      <td>people receive evacuation orders in California</td>\n",
       "      <td>1</td>\n",
       "    </tr>\n",
       "    <tr>\n",
       "      <th>4</th>\n",
       "      <td>7</td>\n",
       "      <td>NaN</td>\n",
       "      <td>NaN</td>\n",
       "      <td>Just got sent this photo from Ruby as smoke fr...</td>\n",
       "      <td>1</td>\n",
       "    </tr>\n",
       "  </tbody>\n",
       "</table>\n",
       "</div>"
      ],
      "text/plain": [
       "   id keyword location                                               text  \\\n",
       "0   1     NaN      NaN  Our Deeds are the Reason of this May ALLAH For...   \n",
       "1   4     NaN      NaN              Forest fire near La Ronge Sask Canada   \n",
       "2   5     NaN      NaN  All residents asked to shelter in place are be...   \n",
       "3   6     NaN      NaN    people receive evacuation orders in California    \n",
       "4   7     NaN      NaN  Just got sent this photo from Ruby as smoke fr...   \n",
       "\n",
       "   target  \n",
       "0       1  \n",
       "1       1  \n",
       "2       1  \n",
       "3       1  \n",
       "4       1  "
      ]
     },
     "metadata": {},
     "output_type": "display_data"
    }
   ],
   "source": [
    "# テキストを前処理\n",
    "train_df[\"text\"] = train_df[\"text\"].apply(lambda x: preprocess_text(x))\n",
    "display(train_df.head())"
   ]
  },
  {
   "cell_type": "markdown",
   "metadata": {},
   "source": [
    "# Test vectorizers"
   ]
  },
  {
   "cell_type": "code",
   "execution_count": 5,
   "metadata": {},
   "outputs": [
    {
     "name": "stdout",
     "output_type": "stream",
     "text": [
      "Our Deeds are the Reason of this May ALLAH Forgive us all\n",
      "[[0 0 0 ... 0 0 0]]\n",
      "(1, 15056)\n"
     ]
    }
   ],
   "source": [
    "from sklearn import feature_extraction\n",
    "\n",
    "count_vectorizer = feature_extraction.text.CountVectorizer()\n",
    "## we use .todense() here because these vectors are \"sparse\"\n",
    "print(train_df[\"text\"][0])\n",
    "print(tr_count_vec[0].todense())\n",
    "print(tr_count_vec[0].todense().shape)"
   ]
  },
  {
   "cell_type": "code",
   "execution_count": 7,
   "metadata": {},
   "outputs": [
    {
     "name": "stderr",
     "output_type": "stream",
     "text": [
      "100%|███████████████████████████████████████████████████████████████████████████████| 405M/405M [01:38<00:00, 4.13MB/s]\n"
     ]
    },
    {
     "name": "stdout",
     "output_type": "stream",
     "text": [
      "Sentence embeddings:\n",
      "[[-0.10409481  0.5274764   1.1797733  ... -0.43389145 -0.69452345\n",
      "   0.5386926 ]\n",
      " [-0.13118434 -0.17390312  1.1052182  ...  0.02624456 -0.00269847\n",
      "   0.9161108 ]\n",
      " [-0.74899274  0.71891785 -1.0394565  ...  0.15582623  1.0202509\n",
      "   0.097904  ]]\n"
     ]
    }
   ],
   "source": [
    "# [referece](https://huggingface.co/sentence-transformers/bert-base-nli-mean-tokens)\n",
    "from sentence_transformers import SentenceTransformer\n",
    "\n",
    "model = SentenceTransformer('bert-base-nli-mean-tokens')\n",
    "sentences = ['This framework generates embeddings for each input sentence',\n",
    "    'Sentences are passed as a list of string.', \n",
    "    'The quick brown fox jumps over the lazy dog.']\n",
    "sentence_embeddings = model.encode(sentences)\n",
    "\n",
    "print(\"Sentence embeddings:\")\n",
    "print(sentence_embeddings)"
   ]
  },
  {
   "cell_type": "markdown",
   "metadata": {},
   "source": [
    "# Compare"
   ]
  },
  {
   "cell_type": "code",
   "execution_count": 6,
   "metadata": {},
   "outputs": [
    {
     "name": "stdout",
     "output_type": "stream",
     "text": [
      "count vector scores\n",
      "0\t0.6024\n",
      "1\t0.5295\n",
      "2\t0.6368\n",
      "score average: 0.6368\n",
      "\n"
     ]
    }
   ],
   "source": [
    "from sklearn import feature_extraction, linear_model, model_selection\n",
    "count_vectorizer = feature_extraction.text.CountVectorizer()\n",
    "tr_count_vec = count_vectorizer.fit_transform(train_df['text'])\n",
    "\n",
    "clf = linear_model.RidgeClassifier()\n",
    "scores_count_vec = model_selection.cross_val_score(\n",
    "    clf, \n",
    "    tr_count_vec, \n",
    "    train_df[\"target\"], \n",
    "    cv=3, \n",
    "    scoring=\"f1\"\n",
    ")\n",
    "print(f\"count vector scores\")\n",
    "for i, scores_count_vec in enumerate(scores_count_vec):print(f\"{i}\\t{scores_count_vec:.4f}\")\n",
    "print(f\"score average: {scores_count_vec.mean():.4f}\\n\")"
   ]
  },
  {
   "cell_type": "code",
   "execution_count": 18,
   "metadata": {},
   "outputs": [
    {
     "name": "stdout",
     "output_type": "stream",
     "text": [
      "bert vector scores\n",
      "0\t0.7133\n",
      "1\t0.6869\n",
      "2\t0.7671\n",
      "score average: 0.7671\n"
     ]
    }
   ],
   "source": [
    "from sentence_transformers import SentenceTransformer\n",
    "\n",
    "tr_bert_vec = model.encode(train_df['text'].values)\n",
    "\n",
    "scores_bert_vec = model_selection.cross_val_score(\n",
    "    clf,\n",
    "    tr_bert_vec,\n",
    "    train_df['target'],\n",
    "    cv=3,\n",
    "    scoring='f1'\n",
    ")\n",
    "print(f\"bert vector scores\")\n",
    "for i, scores_bert_vec in enumerate(scores_bert_vec):print(f\"{i}\\t{scores_bert_vec:.4f}\")\n",
    "print(f\"score average: {scores_bert_vec.mean():.4f}\")"
   ]
  },
  {
   "cell_type": "code",
   "execution_count": null,
   "metadata": {},
   "outputs": [],
   "source": []
  }
 ],
 "metadata": {
  "kernelspec": {
   "display_name": "ml",
   "language": "python",
   "name": "ml"
  },
  "language_info": {
   "codemirror_mode": {
    "name": "ipython",
    "version": 3
   },
   "file_extension": ".py",
   "mimetype": "text/x-python",
   "name": "python",
   "nbconvert_exporter": "python",
   "pygments_lexer": "ipython3",
   "version": "3.7.7"
  }
 },
 "nbformat": 4,
 "nbformat_minor": 4
}
